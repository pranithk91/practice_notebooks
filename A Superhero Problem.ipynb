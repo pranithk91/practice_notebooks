{
 "cells": [
  {
   "cell_type": "markdown",
   "metadata": {},
   "source": [
    "https://www.hackerrank.com/challenges/a-super-hero/problem?h_r=next-challenge&h_v=zen"
   ]
  },
  {
   "cell_type": "code",
   "execution_count": 1,
   "metadata": {},
   "outputs": [
    {
     "name": "stdin",
     "output_type": "stream",
     "text": [
      " 1\n",
      " 3 3\n",
      " 3 2 1\n",
      " 1 2 3\n",
      " 3 2 1\n",
      " 1 2 3\n",
      " 3 2 1\n",
      " 1 2 3\n"
     ]
    },
    {
     "name": "stdout",
     "output_type": "stream",
     "text": [
      "[[3, 2, 1], [1, 2, 3], [3, 2, 1]]\n",
      "[[1, 2, 3], [3, 2, 1], [1, 2, 3]]\n"
     ]
    }
   ],
   "source": [
    "t = int(input())\n",
    "\n",
    "for t_itr in range(t):\n",
    "    nm = input().split()\n",
    "\n",
    "    n = int(nm[0])\n",
    "\n",
    "    m = int(nm[1])\n",
    "\n",
    "    power = []\n",
    "\n",
    "    for x in range(n):\n",
    "        power.append(list(map(int, input().rstrip().split())))\n",
    "\n",
    "    bullets = []\n",
    "\n",
    "    for b in range(n):\n",
    "        bullets.append(list(map(int, input().rstrip().split())))\n",
    "\n",
    "print(power)\n",
    "print(bullets)"
   ]
  },
  {
   "cell_type": "code",
   "execution_count": null,
   "metadata": {},
   "outputs": [],
   "source": [
    "def superHero(power, bullets):\n",
    "    \n",
    "    \n",
    "    if bullets[]\n",
    "    b1min = min(power[1])\n",
    "    "
   ]
  }
 ],
 "metadata": {
  "kernelspec": {
   "display_name": "Python 3",
   "language": "python",
   "name": "python3"
  },
  "language_info": {
   "codemirror_mode": {
    "name": "ipython",
    "version": 3
   },
   "file_extension": ".py",
   "mimetype": "text/x-python",
   "name": "python",
   "nbconvert_exporter": "python",
   "pygments_lexer": "ipython3",
   "version": "3.7.6"
  }
 },
 "nbformat": 4,
 "nbformat_minor": 4
}
