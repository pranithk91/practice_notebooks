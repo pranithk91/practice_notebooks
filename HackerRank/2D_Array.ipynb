{
 "cells": [
  {
   "cell_type": "code",
   "execution_count": 1,
   "metadata": {},
   "outputs": [
    {
     "name": "stdin",
     "output_type": "stream",
     "text": [
      " 1 1 1 0 0 0\n",
      " 0 1 0 0 0 0\n",
      " 1 1 1 0 0 0\n",
      " 0 0 2 4 4 0\n",
      " 0 0 0 2 0 0\n",
      " 0 0 1 2 4 0\n"
     ]
    },
    {
     "name": "stdout",
     "output_type": "stream",
     "text": [
      "[[1, 1, 1, 0, 0, 0], [0, 1, 0, 0, 0, 0], [1, 1, 1, 0, 0, 0], [0, 0, 2, 4, 4, 0], [0, 0, 0, 2, 0, 0], [0, 0, 1, 2, 4, 0]]\n"
     ]
    }
   ],
   "source": [
    "arr =[]\n",
    "for x in range(6):\n",
    "        arr.append(list(map(int, input().rstrip().split())))\n",
    "\n",
    "sum_list = []\n",
    "result = 0\n",
    "for i in range(0,4):\n",
    "    for j in range(0,4):\n",
    "        hr_sum = sum(arr[i][j:j+3]) + (arr[i+1][j+1]) + sum(arr[i+2][j:j+3])\n",
    "        result = max(result, hr_sum)\n",
    "\n",
    "print(result)"
   ]
  },
  {
   "cell_type": "code",
   "execution_count": 3,
   "metadata": {},
   "outputs": [
    {
     "name": "stdout",
     "output_type": "stream",
     "text": [
      "19\n"
     ]
    }
   ],
   "source": [
    "sum_list = []\n",
    "result = 0\n",
    "for i in range(0,4):\n",
    "    for j in range(0,4):\n",
    "        hr_sum = sum(arr[i][j:j+3]) + (arr[i+1][j+1]) + sum(arr[i+2][j:j+3])\n",
    "        result = max(result, hr_sum)\n",
    "\n",
    "print(result)"
   ]
  },
  {
   "cell_type": "code",
   "execution_count": null,
   "metadata": {},
   "outputs": [],
   "source": []
  }
 ],
 "metadata": {
  "kernelspec": {
   "display_name": "Python 3",
   "language": "python",
   "name": "python3"
  },
  "language_info": {
   "codemirror_mode": {
    "name": "ipython",
    "version": 3
   },
   "file_extension": ".py",
   "mimetype": "text/x-python",
   "name": "python",
   "nbconvert_exporter": "python",
   "pygments_lexer": "ipython3",
   "version": "3.7.6"
  }
 },
 "nbformat": 4,
 "nbformat_minor": 4
}
