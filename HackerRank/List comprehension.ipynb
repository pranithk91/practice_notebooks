{
 "cells": [
  {
   "cell_type": "markdown",
   "metadata": {},
   "source": [
    "You are given three integers (x,y,z) and  representing the dimensions of a cuboid along with an integer N . You have to print a list of all possible coordinates given by integers (i,j,k) on a 3D grid where the sum of  is not equal to N and (0,0,0) <= (i,j,k) <= (x,y,z)\n"
   ]
  },
  {
   "cell_type": "code",
   "execution_count": 10,
   "metadata": {},
   "outputs": [
    {
     "name": "stdin",
     "output_type": "stream",
     "text": [
      " 3\n",
      " 2\n",
      " 1\n",
      " 5\n"
     ]
    },
    {
     "name": "stdout",
     "output_type": "stream",
     "text": [
      "[[0, 0, 0], [0, 0, 1], [0, 1, 0], [0, 1, 1], [0, 2, 0], [0, 2, 1], [1, 0, 0], [1, 0, 1], [1, 1, 0], [1, 1, 1], [1, 2, 0], [1, 2, 1], [2, 0, 0], [2, 0, 1], [2, 1, 0], [2, 1, 1], [2, 2, 0], [2, 2, 1], [3, 0, 0], [3, 0, 1], [3, 1, 0], [3, 1, 1], [3, 2, 0], [3, 2, 1]]\n",
      "<class 'list'>\n"
     ]
    }
   ],
   "source": [
    "x = int(input())\n",
    "y = int(input())\n",
    "z = int(input())\n",
    "N = (input())\n",
    "\n",
    "ar = []\n",
    "p = 0\n",
    "for i in range ( x + 1 ): \n",
    "    for j in range( y + 1):\n",
    "        for k in range(z+1):\n",
    "            if i+j+k != N: \n",
    "                ar.append([]) \n",
    "                ar[p] = [ i , j,k ]\n",
    "                p+=1\n",
    "\n",
    "# ar = [[i,j,k] for i in range(x+1) for j in range(y+1)  for k in range(z+1) if i+j+k != 0]\n",
    "# ar\n",
    "print (ar)\n",
    "print(type(ar))"
   ]
  },
  {
   "cell_type": "code",
   "execution_count": 11,
   "metadata": {},
   "outputs": [
    {
     "name": "stdin",
     "output_type": "stream",
     "text": [
      " 3\n",
      " 2\n",
      " 1\n",
      " 5\n"
     ]
    },
    {
     "name": "stdout",
     "output_type": "stream",
     "text": [
      "<class 'list'>\n"
     ]
    }
   ],
   "source": [
    "x = int(input())\n",
    "y = int(input())\n",
    "z = int(input())\n",
    "N = int(input())\n",
    "\n",
    "\n",
    "ar = [[i,j,k] for i in range(x+1) for j in range(y+1)  for k in range(z+1) if i+j+k != N]\n",
    "print(type(ar))"
   ]
  },
  {
   "cell_type": "code",
   "execution_count": 9,
   "metadata": {},
   "outputs": [
    {
     "data": {
      "text/plain": [
       "[[0, 0, 1],\n",
       " [0, 1, 0],\n",
       " [0, 1, 1],\n",
       " [0, 2, 0],\n",
       " [0, 2, 1],\n",
       " [1, 0, 0],\n",
       " [1, 0, 1],\n",
       " [1, 1, 0],\n",
       " [1, 1, 1],\n",
       " [1, 2, 0],\n",
       " [1, 2, 1],\n",
       " [2, 0, 0],\n",
       " [2, 0, 1],\n",
       " [2, 1, 0],\n",
       " [2, 1, 1],\n",
       " [2, 2, 0],\n",
       " [2, 2, 1],\n",
       " [3, 0, 0],\n",
       " [3, 0, 1],\n",
       " [3, 1, 0],\n",
       " [3, 1, 1],\n",
       " [3, 2, 0],\n",
       " [3, 2, 1]]"
      ]
     },
     "execution_count": 9,
     "metadata": {},
     "output_type": "execute_result"
    }
   ],
   "source": [
    "ar"
   ]
  },
  {
   "cell_type": "code",
   "execution_count": null,
   "metadata": {},
   "outputs": [],
   "source": []
  }
 ],
 "metadata": {
  "kernelspec": {
   "display_name": "Python 3",
   "language": "python",
   "name": "python3"
  },
  "language_info": {
   "codemirror_mode": {
    "name": "ipython",
    "version": 3
   },
   "file_extension": ".py",
   "mimetype": "text/x-python",
   "name": "python",
   "nbconvert_exporter": "python",
   "pygments_lexer": "ipython3",
   "version": "3.7.6"
  }
 },
 "nbformat": 4,
 "nbformat_minor": 4
}
