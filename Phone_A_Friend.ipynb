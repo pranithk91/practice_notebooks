{
 "cells": [
  {
   "cell_type": "code",
   "execution_count": 4,
   "metadata": {},
   "outputs": [
    {
     "name": "stdin",
     "output_type": "stream",
     "text": [
      " 3\n",
      " Sam 11223344\n",
      " KP 89765434\n",
      " Rohit 12345678\n",
      " Sam\n"
     ]
    },
    {
     "name": "stdout",
     "output_type": "stream",
     "text": [
      "Not Found\n"
     ]
    }
   ],
   "source": [
    "n = int(input())\n",
    "phone_book = {}\n",
    "for i in range(n):\n",
    "    name, number = input().split()\n",
    "    phone_book[name] = number"
   ]
  },
  {
   "cell_type": "code",
   "execution_count": 6,
   "metadata": {},
   "outputs": [
    {
     "name": "stdout",
     "output_type": "stream",
     "text": [
      "<built-in method keys of dict object at 0x0000028809B1E908>\n"
     ]
    }
   ],
   "source": [
    "print(phone_book.keys)"
   ]
  },
  {
   "cell_type": "code",
   "execution_count": null,
   "metadata": {},
   "outputs": [
    {
     "name": "stdin",
     "output_type": "stream",
     "text": [
      " Sam\n"
     ]
    },
    {
     "name": "stdout",
     "output_type": "stream",
     "text": [
      "Sam = 11223344\n"
     ]
    },
    {
     "name": "stdin",
     "output_type": "stream",
     "text": [
      " Tina\n"
     ]
    },
    {
     "name": "stdout",
     "output_type": "stream",
     "text": [
      "Not Found\n"
     ]
    },
    {
     "name": "stdin",
     "output_type": "stream",
     "text": [
      " KP\n"
     ]
    },
    {
     "name": "stdout",
     "output_type": "stream",
     "text": [
      "KP = 89765434\n"
     ]
    }
   ],
   "source": [
    "\n",
    "def phone_a_friend(query_name):\n",
    "    if query_name in list(phone_book.keys()):\n",
    "        print(query_name,'=',phone_book[query_name])\n",
    "    else:\n",
    "        print('Not Found')\n",
    "        \n",
    "while True:\n",
    "    try:\n",
    "        name = input()\n",
    "        phone_a_friend(name)\n",
    "    except:\n",
    "        break\n",
    "        \n",
    "    \n"
   ]
  },
  {
   "cell_type": "code",
   "execution_count": 14,
   "metadata": {},
   "outputs": [
    {
     "data": {
      "text/plain": [
       "5"
      ]
     },
     "execution_count": 14,
     "metadata": {},
     "output_type": "execute_result"
    }
   ],
   "source": [
    "from sys import stdin \n",
    "lines = stdin.read().splitlines()\n",
    "\n",
    "n = int(lines[0])\n",
    "phone_book = {}\n",
    "for i in range(1,n+1):\n",
    "    name, number = lines[i].split()\n",
    "    phone_book[name] = number\n",
    "\n",
    "query_names = lines[n+1:]\n",
    "for name in query_names:\n",
    "    if name in list(phone_book.keys()):\n",
    "        print(name +'='+phone_book[name])\n",
    "    else:\n",
    "        print('Not Found')"
   ]
  },
  {
   "cell_type": "markdown",
   "metadata": {},
   "source": [
    "I tried the following code. My output and the expected output matches yet the message says 'Wrong output.' \n",
    "\n",
    "from sys import stdin \n",
    "lines = stdin.read().splitlines()\n",
    "\n",
    "n = int(lines[0])\n",
    "phone_book = {}\n",
    "for i in range(1,n+1):\n",
    "    name, number = lines[i].split()\n",
    "    phone_book[name] = number\n",
    "\n",
    "query_names = lines[n+1:]\n",
    "for name in query_names:\n",
    "    if name in list(phone_book.keys()):\n",
    "        print(name +'='+phone_book[name])\n",
    "    else:\n",
    "        print('Not Found')\n",
    "\n",
    "I am still learning how to read inputs and not sure if using this is correct here. Could anyone please explain? \n",
    "for name in query_names:\n",
    "    if name in list(phone_book.keys()):\n",
    "        print(name +'='+phone_book[name])\n",
    "    else:\n",
    "        print('Not Found')"
   ]
  }
 ],
 "metadata": {
  "kernelspec": {
   "display_name": "Python 3",
   "language": "python",
   "name": "python3"
  },
  "language_info": {
   "codemirror_mode": {
    "name": "ipython",
    "version": 3
   },
   "file_extension": ".py",
   "mimetype": "text/x-python",
   "name": "python",
   "nbconvert_exporter": "python",
   "pygments_lexer": "ipython3",
   "version": "3.7.6"
  }
 },
 "nbformat": 4,
 "nbformat_minor": 4
}
