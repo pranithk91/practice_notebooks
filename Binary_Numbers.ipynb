{
 "cells": [
  {
   "cell_type": "code",
   "execution_count": 61,
   "metadata": {},
   "outputs": [
    {
     "name": "stdin",
     "output_type": "stream",
     "text": [
      " 892\n"
     ]
    },
    {
     "name": "stdout",
     "output_type": "stream",
     "text": [
      "[1, 1, 0, 1, 1, 1, 1, 1, 0, 0]\n",
      "[0, 0, 1, 2, 3, 4, 5, 5, 1, 2]\n",
      "5\n"
     ]
    }
   ],
   "source": [
    "n = int(input())\n",
    "count = 0\n",
    "count_list = []\n",
    "while n>0:\n",
    "    rem = n%2\n",
    "    n = n//2\n",
    "    if rem == 0:\n",
    "        count_list.append(count)\n",
    "        count = 0\n",
    "    else:\n",
    "        count += 1\n",
    "        count_list.append(count)\n",
    "print(max(count_list))    \n",
    "    binary.insert(0,rem)\n",
    "print(binary)\n",
    "print(count_list)\n",
    "print(max(count_list))"
   ]
  },
  {
   "cell_type": "code",
   "execution_count": 58,
   "metadata": {},
   "outputs": [
    {
     "name": "stdout",
     "output_type": "stream",
     "text": [
      "5\n"
     ]
    }
   ],
   "source": [
    "counter = 1\n",
    "count_list = []\n",
    "for i in range(1,len(binary)):\n",
    "    if binary[i] == 1:\n",
    "        if binary[i] == binary[i-1]:\n",
    "            counter = counter + 1\n",
    "            count_list.append(counter)\n",
    "        else:\n",
    "            counter = 1\n",
    "    else:\n",
    "        count_list.append(counter)\n",
    "        counter = 0\n",
    "    \n",
    "print(max(count_list))"
   ]
  },
  {
   "cell_type": "code",
   "execution_count": 55,
   "metadata": {},
   "outputs": [
    {
     "name": "stdout",
     "output_type": "stream",
     "text": [
      "[0, 0, 1, 1, 1, 1, 1, 0, 1, 1]\n",
      "5\n"
     ]
    }
   ],
   "source": [
    "counter = 0\n",
    "result = 0\n",
    "_bin = binary\n",
    "print(_bin)\n",
    "for i in range(len(_bin)):\n",
    "    if _bin[i] == 0:\n",
    "        counter = 0\n",
    "    else:\n",
    "        counter += 1\n",
    "        result = max(counter, result)\n",
    "print(result)"
   ]
  },
  {
   "cell_type": "code",
   "execution_count": 44,
   "metadata": {},
   "outputs": [
    {
     "name": "stdout",
     "output_type": "stream",
     "text": [
      "5\n"
     ]
    }
   ],
   "source": [
    "count = 0\n",
    "count_list = []\n",
    "for x in binary:\n",
    "    if x == 0:\n",
    "        count_list.append(c)\n",
    "        count = 1\n",
    "    else:\n",
    "        count += 1\n",
    "        count_list.append(c)\n",
    "print(max(count_list))"
   ]
  },
  {
   "cell_type": "code",
   "execution_count": null,
   "metadata": {},
   "outputs": [],
   "source": []
  }
 ],
 "metadata": {
  "kernelspec": {
   "display_name": "Python 3",
   "language": "python",
   "name": "python3"
  },
  "language_info": {
   "codemirror_mode": {
    "name": "ipython",
    "version": 3
   },
   "file_extension": ".py",
   "mimetype": "text/x-python",
   "name": "python",
   "nbconvert_exporter": "python",
   "pygments_lexer": "ipython3",
   "version": "3.7.6"
  }
 },
 "nbformat": 4,
 "nbformat_minor": 4
}
